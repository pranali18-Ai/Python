{
 "cells": [
  {
   "cell_type": "markdown",
   "metadata": {},
   "source": [
    "# Algorithms "
   ]
  },
  {
   "cell_type": "markdown",
   "metadata": {},
   "source": [
    "## - Searching Algorithm "
   ]
  },
  {
   "cell_type": "markdown",
   "metadata": {},
   "source": [
    "### 1. Linear Search/ Sequential Search"
   ]
  },
  {
   "cell_type": "markdown",
   "metadata": {},
   "source": [
    "- Finding elements within list\n",
    "- sequentially checks the list until it found the element\n",
    "- starts with the leftmost element of the list and compares one by one \n",
    "- If the key element is found then returns the index of element and break the loop \n",
    "- if key not found then return -1"
   ]
  },
  {
   "cell_type": "code",
   "execution_count": 7,
   "metadata": {},
   "outputs": [
    {
     "name": "stdout",
     "output_type": "stream",
     "text": [
      "0\n",
      "Element not found\n",
      "Element not found\n",
      "Element not found\n",
      "Element not found\n",
      "Element not found\n",
      "Element not found\n",
      "Element not found\n"
     ]
    }
   ],
   "source": [
    "Num = [2,3,4,5,6,7,8,9]\n",
    "for i in range(len(Num)):\n",
    "    if Num[i] == 2:\n",
    "        print(i)\n",
    "    else: \n",
    "        print(\"Element not found\")\n",
    "        "
   ]
  },
  {
   "cell_type": "markdown",
   "metadata": {},
   "source": [
    "#### Time Complexity\n",
    "1.  worst case scenario : \n",
    "- Number of operations = length of the list/\n",
    "- Time complexity of linear search = o(n)"
   ]
  },
  {
   "cell_type": "markdown",
   "metadata": {},
   "source": [
    "### 2. Binary Search"
   ]
  },
  {
   "cell_type": "markdown",
   "metadata": {},
   "source": [
    "- Finds the position of targeted value in sorted array\n",
    "- element is always searched in the middle portion of an array "
   ]
  },
  {
   "cell_type": "markdown",
   "metadata": {},
   "source": [
    "- Steps:\n",
    "1. sort the list \n",
    "2. Compare 'k' with the middle most element of the list \n",
    "3. if 'k' matches with the middle element then we return the mid  index.\n",
    "4. if 'k' is greater than then it can only lie on the 'right' half of the middle element.\n",
    "5. repeat 2 and 3rd step for right  half of the element \n",
    "6. if 'k' is smaller than middle element then it can lie on the 'left' half of the middle element."
   ]
  },
  {
   "cell_type": "markdown",
   "metadata": {},
   "source": [
    "#### rough code\n",
    "search of element 10 \\\n",
    "num = [2,4, 6,7,8,10, 11]   \\\n",
    "middle element = 1 \\\n",
    "10> 7 , ignore left half \\\n",
    "right half = [8,10,11] \\\n",
    "Middle element = 10 found element return index\n"
   ]
  },
  {
   "cell_type": "markdown",
   "metadata": {},
   "source": [
    "#### Time Complexity\n",
    "First iteration n\n",
    "second iteration n/2\n",
    "third iteration n/4 = n/2^2\n",
    "last iteration  1= n/2^y\n",
    "y is the number of iteration performed \n",
    "Time complexity = O(logn)"
   ]
  },
  {
   "cell_type": "markdown",
   "metadata": {},
   "source": [
    "## - Sorting Algorithm"
   ]
  },
  {
   "cell_type": "code",
   "execution_count": null,
   "metadata": {},
   "outputs": [],
   "source": []
  }
 ],
 "metadata": {
  "kernelspec": {
   "display_name": "Python 3",
   "language": "python",
   "name": "python3"
  },
  "language_info": {
   "codemirror_mode": {
    "name": "ipython",
    "version": 3
   },
   "file_extension": ".py",
   "mimetype": "text/x-python",
   "name": "python",
   "nbconvert_exporter": "python",
   "pygments_lexer": "ipython3",
   "version": "3.12.2"
  }
 },
 "nbformat": 4,
 "nbformat_minor": 2
}
