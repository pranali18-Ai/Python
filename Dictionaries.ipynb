{
 "cells": [
  {
   "cell_type": "markdown",
   "metadata": {},
   "source": [
    "# DICTIONARIES"
   ]
  },
  {
   "cell_type": "markdown",
   "metadata": {},
   "source": [
    "Dictionaries are collections of key-value pairs. Each key is unique, and it maps to a value"
   ]
  },
  {
   "cell_type": "code",
   "execution_count": 67,
   "metadata": {},
   "outputs": [
    {
     "data": {
      "text/plain": [
       "{'Name': 'Lovely Runner',\n",
       " 'Male Lead': 'Sunjae',\n",
       " 'Female Lead': 'Im Sol',\n",
       " 'Year': 2024}"
      ]
     },
     "execution_count": 67,
     "metadata": {},
     "output_type": "execute_result"
    }
   ],
   "source": [
    "Drama = {\"Name\": \"Lovely Runner\", \"Male Lead\": \"Sunjae\", \"Female Lead\": \"Im Sol\", \"Year\": 2024}\n",
    "Drama"
   ]
  },
  {
   "cell_type": "markdown",
   "metadata": {},
   "source": [
    "Using dict-       Value : Lovely runner    Key : Name "
   ]
  },
  {
   "cell_type": "code",
   "execution_count": 68,
   "metadata": {},
   "outputs": [
    {
     "data": {
      "text/plain": [
       "{'Name': 'Lovely Runner', 'Actor': 'Sunjae', 'Actress': 'Im Sol', 'Year': 2024}"
      ]
     },
     "execution_count": 68,
     "metadata": {},
     "output_type": "execute_result"
    }
   ],
   "source": [
    "Drama = dict(Name =\"Lovely Runner\", Actor = \"Sunjae\", Actress= \"Im Sol\", Year= 2024)\n",
    "Drama"
   ]
  },
  {
   "cell_type": "markdown",
   "metadata": {},
   "source": [
    "1. get() access item of dictionary"
   ]
  },
  {
   "cell_type": "code",
   "execution_count": 69,
   "metadata": {},
   "outputs": [
    {
     "data": {
      "text/plain": [
       "'Lovely Runner'"
      ]
     },
     "execution_count": 69,
     "metadata": {},
     "output_type": "execute_result"
    }
   ],
   "source": [
    "Drama.get(\"Name\")"
   ]
  },
  {
   "cell_type": "code",
   "execution_count": 70,
   "metadata": {},
   "outputs": [
    {
     "data": {
      "text/plain": [
       "'Lovely Runner'"
      ]
     },
     "execution_count": 70,
     "metadata": {},
     "output_type": "execute_result"
    }
   ],
   "source": [
    "#without using get() method\n",
    "\n",
    "Drama['Name']   "
   ]
  },
  {
   "cell_type": "markdown",
   "metadata": {},
   "source": [
    "Dictionaries are mutable. We can add new item or even change the value of existing item using assignment operator"
   ]
  },
  {
   "cell_type": "code",
   "execution_count": 71,
   "metadata": {},
   "outputs": [
    {
     "data": {
      "text/plain": [
       "{'Name': 'Queen of Tears',\n",
       " 'Actor': 'Sunjae',\n",
       " 'Actress': 'Im Sol',\n",
       " 'Year': 2024}"
      ]
     },
     "execution_count": 71,
     "metadata": {},
     "output_type": "execute_result"
    }
   ],
   "source": [
    "#Changing item \n",
    "\n",
    "Drama['Name'] = 'Queen of Tears'\n",
    "Drama"
   ]
  },
  {
   "cell_type": "code",
   "execution_count": 72,
   "metadata": {},
   "outputs": [
    {
     "data": {
      "text/plain": [
       "{'Name': 'Queen of Tears',\n",
       " 'Actor': 'Sunjae',\n",
       " 'Actress': 'Im Sol',\n",
       " 'Year': 2024,\n",
       " 'Platform': 'Netflix'}"
      ]
     },
     "execution_count": 72,
     "metadata": {},
     "output_type": "execute_result"
    }
   ],
   "source": [
    "#Adding new item \n",
    "Drama['Platform'] = \"Netflix\"\n",
    "Drama"
   ]
  },
  {
   "cell_type": "markdown",
   "metadata": {},
   "source": [
    "## a. Operations in Dictionary"
   ]
  },
  {
   "cell_type": "markdown",
   "metadata": {},
   "source": [
    "### 1. Copy() : returns copy of dictionary"
   ]
  },
  {
   "cell_type": "code",
   "execution_count": 73,
   "metadata": {},
   "outputs": [
    {
     "data": {
      "text/plain": [
       "{'Name': 'A typical Family', 'Year': 2024, 'Platform': 'Netflix'}"
      ]
     },
     "execution_count": 73,
     "metadata": {},
     "output_type": "execute_result"
    }
   ],
   "source": [
    "Drama1 = {\"Name\":\"A typical Family\", \"Year\": 2024, \"Platform\": \"Netflix\"}\n",
    "Drama2 = Drama1.copy()\n",
    "Drama2"
   ]
  },
  {
   "cell_type": "markdown",
   "metadata": {},
   "source": [
    "### 2. items(): returns list Containing touples for each key-value pair"
   ]
  },
  {
   "cell_type": "code",
   "execution_count": 74,
   "metadata": {},
   "outputs": [
    {
     "data": {
      "text/plain": [
       "dict_items([('Name', 'Queen of Tears'), ('Actor', 'Sunjae'), ('Actress', 'Im Sol'), ('Year', 2024), ('Platform', 'Netflix')])"
      ]
     },
     "execution_count": 74,
     "metadata": {},
     "output_type": "execute_result"
    }
   ],
   "source": [
    "Drama.items()"
   ]
  },
  {
   "cell_type": "markdown",
   "metadata": {},
   "source": [
    "### 3. Keys(): returns lists containing the dictionary keys"
   ]
  },
  {
   "cell_type": "code",
   "execution_count": 75,
   "metadata": {},
   "outputs": [
    {
     "data": {
      "text/plain": [
       "dict_keys(['Name', 'Actor', 'Actress', 'Year', 'Platform'])"
      ]
     },
     "execution_count": 75,
     "metadata": {},
     "output_type": "execute_result"
    }
   ],
   "source": [
    "Drama.keys()"
   ]
  },
  {
   "cell_type": "markdown",
   "metadata": {},
   "source": [
    "### 4. Values(): returns values in the dictionary"
   ]
  },
  {
   "cell_type": "code",
   "execution_count": 76,
   "metadata": {},
   "outputs": [
    {
     "data": {
      "text/plain": [
       "dict_values(['Queen of Tears', 'Sunjae', 'Im Sol', 2024, 'Netflix'])"
      ]
     },
     "execution_count": 76,
     "metadata": {},
     "output_type": "execute_result"
    }
   ],
   "source": [
    "Drama.values()"
   ]
  },
  {
   "cell_type": "markdown",
   "metadata": {},
   "source": [
    "### 5. pop(): removes the element with specified key"
   ]
  },
  {
   "cell_type": "code",
   "execution_count": 77,
   "metadata": {},
   "outputs": [
    {
     "data": {
      "text/plain": [
       "{'Actor': 'Sunjae', 'Actress': 'Im Sol', 'Year': 2024, 'Platform': 'Netflix'}"
      ]
     },
     "execution_count": 77,
     "metadata": {},
     "output_type": "execute_result"
    }
   ],
   "source": [
    "Drama.pop(\"Name\")\n",
    "Drama"
   ]
  },
  {
   "cell_type": "markdown",
   "metadata": {},
   "source": [
    "### 6. popitem(): removes last inserted key-value pair"
   ]
  },
  {
   "cell_type": "code",
   "execution_count": 78,
   "metadata": {},
   "outputs": [
    {
     "data": {
      "text/plain": [
       "('Platform', 'Netflix')"
      ]
     },
     "execution_count": 78,
     "metadata": {},
     "output_type": "execute_result"
    }
   ],
   "source": [
    "Drama.popitem()"
   ]
  },
  {
   "cell_type": "markdown",
   "metadata": {},
   "source": [
    "### 7. update(): Update the dictionary with specified  key-value pair"
   ]
  },
  {
   "cell_type": "code",
   "execution_count": 79,
   "metadata": {},
   "outputs": [
    {
     "data": {
      "text/plain": [
       "{'Actor': 'Sunjae', 'Actress': 'Zhau Lausi', 'Year': 2024}"
      ]
     },
     "execution_count": 79,
     "metadata": {},
     "output_type": "execute_result"
    }
   ],
   "source": [
    "Drama.update({\"Actress\": \"Zhau Lausi\"})\n",
    "Drama"
   ]
  },
  {
   "cell_type": "code",
   "execution_count": 81,
   "metadata": {},
   "outputs": [
    {
     "data": {
      "text/plain": [
       "{}"
      ]
     },
     "execution_count": 81,
     "metadata": {},
     "output_type": "execute_result"
    }
   ],
   "source": [
    "#Clear: removes all the elements from dictionary\n",
    "Drama.clear()\n",
    "Drama\n"
   ]
  },
  {
   "cell_type": "markdown",
   "metadata": {},
   "source": [
    "## b. Nested Dictionaries"
   ]
  },
  {
   "cell_type": "markdown",
   "metadata": {},
   "source": [
    "It is a dictionary inside a dictionary. It's collection of dictionaries into one single dictionary.\\\n",
    "\\\n",
    "**nested_dict = {dict1: {key1: value1}, dict2: {key2: value2}}**"
   ]
  },
  {
   "cell_type": "code",
   "execution_count": 83,
   "metadata": {},
   "outputs": [
    {
     "data": {
      "text/plain": [
       "{'Autumn Serenade': {'Actress': 'Jisso', 'Actor': 'Yuna', 'Year': 2024},\n",
       " \"Winter's Embrace\": {'Actress': 'Minho', 'Actor': 'Seulgi', 'Year': 2024},\n",
       " 'Spring Blossoms': {'Actress': 'Hyunwoo', 'Actor': 'Hana', 'Year': 2023},\n",
       " 'Summer Days': {'Actress': 'Doyoung', 'Actor': 'Sumin', 'Year': 2023}}"
      ]
     },
     "execution_count": 83,
     "metadata": {},
     "output_type": "execute_result"
    }
   ],
   "source": [
    "Dramas = {\"Autumn Serenade\":{\"Actress\": \"Jisso\", \"Actor\": 'Yuna', 'Year': 2024},\n",
    "          \"Winter's Embrace\" :{\"Actress\": \"Minho\", \"Actor\": 'Seulgi', 'Year': 2024},\n",
    "          \"Spring Blossoms\" :{\"Actress\": \"Hyunwoo\", \"Actor\": 'Hana', 'Year': 2023},\n",
    "          \"Summer Days\" :{\"Actress\": \"Doyoung\", \"Actor\": 'Sumin', 'Year': 2023}\n",
    "          }\n",
    "Dramas"
   ]
  },
  {
   "cell_type": "code",
   "execution_count": 90,
   "metadata": {},
   "outputs": [
    {
     "data": {
      "text/plain": [
       "{'Actress': 'Jisso', 'Actor': 'Yuna', 'Year': 2024}"
      ]
     },
     "execution_count": 90,
     "metadata": {},
     "output_type": "execute_result"
    }
   ],
   "source": [
    "#accessing values in a nested dictionary\n",
    "\n",
    "Dramas [\"Autumn Serenade\"]"
   ]
  },
  {
   "cell_type": "code",
   "execution_count": 92,
   "metadata": {},
   "outputs": [
    {
     "data": {
      "text/plain": [
       "2024"
      ]
     },
     "execution_count": 92,
     "metadata": {},
     "output_type": "execute_result"
    }
   ],
   "source": [
    "Dramas[\"Autumn Serenade\"][\"Year\"]"
   ]
  },
  {
   "cell_type": "code",
   "execution_count": 96,
   "metadata": {},
   "outputs": [
    {
     "data": {
      "text/plain": [
       "{'Actress': 'Kyungsoo', 'Actor': 'Hyeri', 'Year': 2023}"
      ]
     },
     "execution_count": 96,
     "metadata": {},
     "output_type": "execute_result"
    }
   ],
   "source": [
    "#To add new drama in dictionary\n",
    "\n",
    "Dramas[\"Secret Garden\"] = {}\n",
    "Dramas[\"Secret Garden\"][\"Actress\"] = 'Kyungsoo'\n",
    "Dramas[\"Secret Garden\"]['Actor'] = 'Hyeri'\n",
    "Dramas[\"Secret Garden\"][\"Year\"] =2023\n",
    "\n",
    "Dramas[\"Secret Garden\"]"
   ]
  },
  {
   "cell_type": "code",
   "execution_count": 98,
   "metadata": {},
   "outputs": [
    {
     "data": {
      "text/plain": [
       "{'Actress': 'Jisso', 'Actor': 'Yuna', 'Year': 2024}"
      ]
     },
     "execution_count": 98,
     "metadata": {},
     "output_type": "execute_result"
    }
   ],
   "source": [
    "#remove item from  the existing nested dictionary\n",
    "\n",
    "Dramas.pop(\"Autumn Serenade\")"
   ]
  },
  {
   "cell_type": "code",
   "execution_count": 100,
   "metadata": {},
   "outputs": [
    {
     "name": "stdout",
     "output_type": "stream",
     "text": [
      "Name of Drama:  Winter's Embrace\n",
      "Actress :  Minho\n",
      "Actor :  Seulgi\n",
      "Year :  2024\n",
      "Name of Drama:  Spring Blossoms\n",
      "Actress :  Hyunwoo\n",
      "Actor :  Hana\n",
      "Year :  2023\n",
      "Name of Drama:  Summer Days\n",
      "Actress :  Doyoung\n",
      "Actor :  Sumin\n",
      "Year :  2023\n",
      "Name of Drama:  Secret Garden\n",
      "Actress :  Kyungsoo\n",
      "Actor :  Hyeri\n",
      "Year :  2023\n"
     ]
    }
   ],
   "source": [
    "#iterating through nested dictionary\n",
    "\n",
    "for Name, ReleaseYear in Dramas.items():\n",
    "    print(\"Name of Drama: \", Name)\n",
    "    for Year in ReleaseYear:\n",
    "        print(Year, \": \", ReleaseYear[Year])"
   ]
  }
 ],
 "metadata": {
  "kernelspec": {
   "display_name": "Python 3",
   "language": "python",
   "name": "python3"
  },
  "language_info": {
   "codemirror_mode": {
    "name": "ipython",
    "version": 3
   },
   "file_extension": ".py",
   "mimetype": "text/x-python",
   "name": "python",
   "nbconvert_exporter": "python",
   "pygments_lexer": "ipython3",
   "version": "3.12.2"
  }
 },
 "nbformat": 4,
 "nbformat_minor": 2
}
